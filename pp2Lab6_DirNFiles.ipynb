{
 "cells": [
  {
   "cell_type": "code",
   "execution_count": 2,
   "metadata": {},
   "outputs": [
    {
     "name": "stdout",
     "output_type": "stream",
     "text": [
      "\n",
      "Directories:\n",
      "['node_modules']\n",
      "\n",
      "Files:\n",
      "['corepack', 'corepack.cmd', 'install_tools.bat', 'node.exe', 'nodevars.bat', 'npm', 'npm.cmd', 'npm.ps1', 'npx', 'npx.cmd', 'npx.ps1']\n",
      "\n",
      "All items (directories and files):\n",
      "['corepack', 'corepack.cmd', 'install_tools.bat', 'node.exe', 'nodevars.bat', 'node_modules', 'npm', 'npm.cmd', 'npm.ps1', 'npx', 'npx.cmd', 'npx.ps1']\n"
     ]
    }
   ],
   "source": [
    "#1\n",
    "import os\n",
    "path = input(\"Enter the path to list directories and files: \")\n",
    "try:\n",
    "    items = os.listdir(path)\n",
    "    directories = [item for item in items if os.path.isdir(os.path.join(path, item))]\n",
    "    files = [item for item in items if os.path.isfile(os.path.join(path, item))]\n",
    "    print(\"\\nDirectories:\")\n",
    "    print(directories)\n",
    "    print(\"\\nFiles:\")\n",
    "    print(files)\n",
    "    print(\"\\nAll items (directories and files):\")\n",
    "    print(items)\n",
    "except Exception as e:\n",
    "    print(\"Error:\", str(e))"
   ]
  },
  {
   "cell_type": "code",
   "execution_count": 3,
   "metadata": {},
   "outputs": [
    {
     "name": "stdout",
     "output_type": "stream",
     "text": [
      "The path 'E:\\nodejs' exists.\n",
      "The path is readable.\n",
      "The path is writable.\n",
      "The path is executable.\n"
     ]
    }
   ],
   "source": [
    "#2\n",
    "import os\n",
    "path = input(\"Enter the path to check access: \")\n",
    "if os.path.exists(path):\n",
    "    print(f\"The path '{path}' exists.\")\n",
    "    # Check for readability\n",
    "    if os.access(path, os.R_OK):\n",
    "        print(\"The path is readable.\")\n",
    "    else:\n",
    "        print(\"The path is not readable.\")\n",
    "    # Check for writability\n",
    "    if os.access(path, os.W_OK):\n",
    "        print(\"The path is writable.\")\n",
    "    else:\n",
    "        print(\"The path is not writable.\")\n",
    "    # Check for executability\n",
    "    if os.access(path, os.X_OK):\n",
    "        print(\"The path is executable.\")\n",
    "    else:\n",
    "        print(\"The path is not executable.\")\n",
    "else:\n",
    "    print(f\"The path '{path}' does not exist.\")"
   ]
  },
  {
   "cell_type": "code",
   "execution_count": 4,
   "metadata": {},
   "outputs": [
    {
     "name": "stdout",
     "output_type": "stream",
     "text": [
      "The path 'E:\\nodejs' exists.\n",
      "Directory portion: 'E:\\'\n",
      "Filename portion: 'nodejs'\n"
     ]
    }
   ],
   "source": [
    "#3\n",
    "import os\n",
    "path = input(\"Enter the path to check: \")\n",
    "if os.path.exists(path):\n",
    "    print(f\"The path '{path}' exists.\")\n",
    "    # Get the directory portion of the path\n",
    "    directory = os.path.dirname(path)\n",
    "    print(f\"Directory portion: '{directory}'\")\n",
    "    # Get the filename portion of the path\n",
    "    filename = os.path.basename(path)\n",
    "    print(f\"Filename portion: '{filename}'\")\n",
    "else:\n",
    "    print(f\"The path '{path}' does not exist.\")"
   ]
  },
  {
   "cell_type": "code",
   "execution_count": 12,
   "metadata": {},
   "outputs": [
    {
     "name": "stdout",
     "output_type": "stream",
     "text": [
      "The number of lines in the file 'test.txt' is: 8\n"
     ]
    }
   ],
   "source": [
    "#4\n",
    "file_path = \"test.txt\"\n",
    "try:\n",
    "    with open(file_path, 'r') as file:\n",
    "        line_count = sum(1 for line in file)\n",
    "    \n",
    "    print(f\"The number of lines in the file '{file_path}' is: {line_count}\")\n",
    "\n",
    "except FileNotFoundError:\n",
    "    print(f\"The file '{file_path}' does not exist.\")\n",
    "except Exception as e:\n",
    "    print(f\"An error occurred: {str(e)}\")"
   ]
  },
  {
   "cell_type": "code",
   "execution_count": 7,
   "metadata": {},
   "outputs": [
    {
     "name": "stdout",
     "output_type": "stream",
     "text": [
      "The list has been written to 'test.txt'.\n"
     ]
    }
   ],
   "source": [
    "#5\n",
    "file_path = \"test.txt\"\n",
    "items = [\"apple\", \"banana\", \"cherry\", \"date\", \"elderberry\"]\n",
    "\n",
    "try:\n",
    "    with open(file_path, 'a') as file:\n",
    "        for item in items:\n",
    "            file.write(item + '\\n')\n",
    "    \n",
    "    print(f\"The list has been written to '{file_path}'.\")\n",
    "\n",
    "except Exception as e:\n",
    "    print(f\"An error occurred: {str(e)}\")"
   ]
  },
  {
   "cell_type": "code",
   "execution_count": 8,
   "metadata": {},
   "outputs": [
    {
     "name": "stdout",
     "output_type": "stream",
     "text": [
      "Created file: A.txt\n",
      "Created file: B.txt\n",
      "Created file: C.txt\n",
      "Created file: D.txt\n",
      "Created file: E.txt\n",
      "Created file: F.txt\n",
      "Created file: G.txt\n",
      "Created file: H.txt\n",
      "Created file: I.txt\n",
      "Created file: J.txt\n",
      "Created file: K.txt\n",
      "Created file: L.txt\n",
      "Created file: M.txt\n",
      "Created file: N.txt\n",
      "Created file: O.txt\n",
      "Created file: P.txt\n",
      "Created file: Q.txt\n",
      "Created file: R.txt\n",
      "Created file: S.txt\n",
      "Created file: T.txt\n",
      "Created file: U.txt\n",
      "Created file: V.txt\n",
      "Created file: W.txt\n",
      "Created file: X.txt\n",
      "Created file: Y.txt\n",
      "Created file: Z.txt\n"
     ]
    }
   ],
   "source": [
    "#6\n",
    "letters = [chr(i) for i in range(65, 91)]  # ASCII values for A-Z\n",
    "for letter in letters:\n",
    "    filename = letter + \".txt\"\n",
    "    try:\n",
    "        with open(filename, \"x\") as f:\n",
    "            f.write(f\"This is the file for letter {letter}.\") \n",
    "        print(f\"Created file: {filename}\")\n",
    "    except FileExistsError:\n",
    "        print(f\"File {filename} already exists.\")\n",
    "    except Exception as e:\n",
    "        print(f\"An error occurred while creating {filename}: {str(e)}\")"
   ]
  },
  {
   "cell_type": "code",
   "execution_count": null,
   "metadata": {},
   "outputs": [
    {
     "name": "stdout",
     "output_type": "stream",
     "text": [
      "Deleted file: A.txt\n",
      "Deleted file: B.txt\n",
      "Deleted file: C.txt\n",
      "Deleted file: D.txt\n",
      "Deleted file: E.txt\n",
      "Deleted file: F.txt\n",
      "Deleted file: G.txt\n",
      "Deleted file: H.txt\n",
      "Deleted file: I.txt\n",
      "Deleted file: J.txt\n",
      "Deleted file: K.txt\n",
      "Deleted file: L.txt\n",
      "Deleted file: M.txt\n",
      "Deleted file: N.txt\n",
      "Deleted file: O.txt\n",
      "Deleted file: P.txt\n",
      "Deleted file: Q.txt\n",
      "Deleted file: R.txt\n",
      "Deleted file: S.txt\n",
      "Deleted file: T.txt\n",
      "Deleted file: U.txt\n",
      "Deleted file: V.txt\n",
      "Deleted file: W.txt\n",
      "Deleted file: X.txt\n",
      "Deleted file: Y.txt\n",
      "Deleted file: Z.txt\n"
     ]
    }
   ],
   "source": [
    "#6.5\n",
    "import os\n",
    "letters = [chr(i) for i in range(65, 91)]  # ASCII values for A-Z\n",
    "for letter in letters:\n",
    "    filename = letter + \".txt\"\n",
    "    try:\n",
    "        os.remove(filename)\n",
    "        print(f\"Deleted file: {filename}\")\n",
    "    except FileNotFoundError:\n",
    "        print(f\"File {filename} does not exist.\")\n",
    "    except Exception as e:\n",
    "        print(f\"An error occurred while deleting {filename}: {str(e)}\")"
   ]
  },
  {
   "cell_type": "code",
   "execution_count": 9,
   "metadata": {},
   "outputs": [
    {
     "name": "stdout",
     "output_type": "stream",
     "text": [
      "Contents copied from 'test.txt' to 'test2.txt'.\n"
     ]
    }
   ],
   "source": [
    "#7\n",
    "source_file = \"test.txt\"\n",
    "destination_file = \"test2.txt\"\n",
    "try:\n",
    "    with open(source_file, 'r') as src:\n",
    "        with open(destination_file, 'w') as dest:\n",
    "            contents = src.read()\n",
    "            dest.write(contents)\n",
    "    \n",
    "    print(f\"Contents copied from '{source_file}' to '{destination_file}'.\")\n",
    "\n",
    "except FileNotFoundError:\n",
    "    print(f\"The file '{source_file}' does not exist.\")\n",
    "except Exception as e:\n",
    "    print(f\"An error occurred: {str(e)}\")"
   ]
  },
  {
   "cell_type": "code",
   "execution_count": 11,
   "metadata": {},
   "outputs": [
    {
     "name": "stdout",
     "output_type": "stream",
     "text": [
      "The file 'test2.txt' has been deleted.\n"
     ]
    }
   ],
   "source": [
    "#8\n",
    "import os\n",
    "file_path = \"test2.txt\"\n",
    "if os.path.exists(file_path):\n",
    "    if os.access(file_path, os.R_OK) and os.access(file_path, os.W_OK):\n",
    "        try:\n",
    "            os.remove(file_path)\n",
    "            print(f\"The file '{file_path}' has been deleted.\")\n",
    "        except Exception as e:\n",
    "            print(f\"An error occurred while deleting the file: {str(e)}\")\n",
    "    else:\n",
    "        print(f\"You do not have permission to delete the file '{file_path}'.\")\n",
    "else:\n",
    "    print(f\"The file '{file_path}' does not exist.\")"
   ]
  }
 ],
 "metadata": {
  "kernelspec": {
   "display_name": "Python 3",
   "language": "python",
   "name": "python3"
  },
  "language_info": {
   "codemirror_mode": {
    "name": "ipython",
    "version": 3
   },
   "file_extension": ".py",
   "mimetype": "text/x-python",
   "name": "python",
   "nbconvert_exporter": "python",
   "pygments_lexer": "ipython3",
   "version": "3.13.0"
  }
 },
 "nbformat": 4,
 "nbformat_minor": 2
}
