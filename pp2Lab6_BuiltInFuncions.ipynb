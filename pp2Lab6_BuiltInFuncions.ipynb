{
 "cells": [
  {
   "cell_type": "code",
   "execution_count": null,
   "metadata": {},
   "outputs": [
    {
     "data": {
      "text/plain": [
       "92345"
      ]
     },
     "execution_count": 2,
     "metadata": {},
     "output_type": "execute_result"
    }
   ],
   "source": [
    "#1Write a Python program with builtin function to multiply all the numbers in a list\n",
    "from functools import reduce\n",
    "from operator import mul\n",
    "list=[1,5,23,73,11]\n",
    "reduce(mul, list)\n"
   ]
  },
  {
   "cell_type": "code",
   "execution_count": 1,
   "metadata": {},
   "outputs": [
    {
     "name": "stdout",
     "output_type": "stream",
     "text": [
      "Number of uppercase letters: 8\n",
      "Number of lowercase letters: 7\n"
     ]
    }
   ],
   "source": [
    "#2Write a Python program with builtin function that accepts a string and calculate the number of upper case letters and lower case letters\n",
    "string = input(\"Enter a string: \")\n",
    "upper_count = 0\n",
    "lower_count = 0\n",
    "for char in string:\n",
    "    if char.isupper(): \n",
    "        upper_count += 1\n",
    "    elif char.islower():  \n",
    "        lower_count += 1\n",
    "print(\"Number of uppercase letters:\", upper_count)\n",
    "print(\"Number of lowercase letters:\", lower_count)"
   ]
  },
  {
   "cell_type": "code",
   "execution_count": 2,
   "metadata": {},
   "outputs": [
    {
     "name": "stdout",
     "output_type": "stream",
     "text": [
      "'AbbbbA' is a palindrome.\n"
     ]
    }
   ],
   "source": [
    "#3Write a Python program with builtin function that checks whether a passed string is palindrome or not.\n",
    "string = input(\"Enter a string: \")\n",
    "\n",
    "cleaned_string = ''.join(string.split()).lower()\n",
    "\n",
    "if cleaned_string == cleaned_string[::-1]:\n",
    "    print(f\"'{string}' is a palindrome.\")\n",
    "else:\n",
    "    print(f\"'{string}' is not a palindrome.\")"
   ]
  },
  {
   "cell_type": "code",
   "execution_count": 3,
   "metadata": {},
   "outputs": [
    {
     "name": "stdout",
     "output_type": "stream",
     "text": [
      "Square root of 8888.0 after 1000 milliseconds is 94.27618999514141\n"
     ]
    }
   ],
   "source": [
    "#4Write a Python program that invoke square root function after specific milliseconds.\n",
    "import time\n",
    "import math\n",
    "number = float(input(\"Enter a number to find the square root: \"))\n",
    "delay_ms = int(input(\"Enter the delay in milliseconds: \"))\n",
    "delay_seconds = delay_ms / 1000.0\n",
    "time.sleep(delay_seconds)\n",
    "square_root = math.sqrt(number)\n",
    "print(f\"Square root of {number} after {delay_ms} milliseconds is {square_root}\")"
   ]
  },
  {
   "cell_type": "code",
   "execution_count": 4,
   "metadata": {},
   "outputs": [
    {
     "name": "stdout",
     "output_type": "stream",
     "text": [
      "All elements are true: True\n"
     ]
    }
   ],
   "source": [
    "#5Write a Python program with builtin function that returns True if all elements of the tuple are true.\n",
    "input_string = input(\"Enter elements of the tuple separated by commas: \")\n",
    "elements = tuple(map(str.strip, input_string.split(','))) \n",
    "all_true = all(elements)\n",
    "print(\"All elements are true:\", all_true)"
   ]
  }
 ],
 "metadata": {
  "kernelspec": {
   "display_name": "Python 3",
   "language": "python",
   "name": "python3"
  },
  "language_info": {
   "codemirror_mode": {
    "name": "ipython",
    "version": 3
   },
   "file_extension": ".py",
   "mimetype": "text/x-python",
   "name": "python",
   "nbconvert_exporter": "python",
   "pygments_lexer": "ipython3",
   "version": "3.13.0"
  }
 },
 "nbformat": 4,
 "nbformat_minor": 2
}
